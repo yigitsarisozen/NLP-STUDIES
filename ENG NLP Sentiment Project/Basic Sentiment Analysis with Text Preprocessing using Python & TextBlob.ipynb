{
 "cells": [
  {
   "cell_type": "markdown",
   "id": "9acccd64-dc3e-40fe-babd-44f6200cd02f",
   "metadata": {},
   "source": [
    "## Introduction\n",
    "In this project, we will perform text preprocessing and sentiment analysis on a dataset of text. The goal is to clean the text data, remove unnecessary characters, and then use a sentiment analysis tool to categorize the sentiment of the text as positive, neutral, or negative.\n"
   ]
  },
  {
   "cell_type": "markdown",
   "id": "d33fc578-d3d2-4df2-a579-74a0a94cb121",
   "metadata": {},
   "source": [
    "## Text Preprocessing\n",
    "In this step, we will clean the text data by:\n",
    "- Converting all text to lowercase\n",
    "- Removing punctuation and numbers\n",
    "- Removing extra spaces\n"
   ]
  },
  {
   "cell_type": "code",
   "execution_count": 1,
   "id": "7284794d-9e19-4f9a-8ec3-b9c2a6efc574",
   "metadata": {},
   "outputs": [
    {
     "data": {
      "text/html": [
       "<div>\n",
       "<style scoped>\n",
       "    .dataframe tbody tr th:only-of-type {\n",
       "        vertical-align: middle;\n",
       "    }\n",
       "\n",
       "    .dataframe tbody tr th {\n",
       "        vertical-align: top;\n",
       "    }\n",
       "\n",
       "    .dataframe thead th {\n",
       "        text-align: right;\n",
       "    }\n",
       "</style>\n",
       "<table border=\"1\" class=\"dataframe\">\n",
       "  <thead>\n",
       "    <tr style=\"text-align: right;\">\n",
       "      <th></th>\n",
       "      <th>Text</th>\n",
       "      <th>Clean_Text</th>\n",
       "    </tr>\n",
       "  </thead>\n",
       "  <tbody>\n",
       "    <tr>\n",
       "      <th>0</th>\n",
       "      <td>I love programming!</td>\n",
       "      <td>i love programming</td>\n",
       "    </tr>\n",
       "    <tr>\n",
       "      <th>1</th>\n",
       "      <td>I hate bugs...</td>\n",
       "      <td>i hate bugs</td>\n",
       "    </tr>\n",
       "    <tr>\n",
       "      <th>2</th>\n",
       "      <td>Python is awesome.</td>\n",
       "      <td>python is awesome</td>\n",
       "    </tr>\n",
       "  </tbody>\n",
       "</table>\n",
       "</div>"
      ],
      "text/plain": [
       "                  Text          Clean_Text\n",
       "0  I love programming!  i love programming\n",
       "1       I hate bugs...         i hate bugs\n",
       "2   Python is awesome.   python is awesome"
      ]
     },
     "execution_count": 1,
     "metadata": {},
     "output_type": "execute_result"
    }
   ],
   "source": [
    "import pandas as pd\n",
    "import re\n",
    "\n",
    "# Sample dataset\n",
    "data = {'Text': ['I love programming!', 'I hate bugs...', 'Python is awesome.']}\n",
    "df = pd.DataFrame(data)\n",
    "\n",
    "# Text Preprocessing\n",
    "def clean_text(text):\n",
    "    text = text.lower()  # Convert to lowercase\n",
    "    text = re.sub(r'[^a-zA-Z\\s]', '', text)  # Remove punctuation and numbers\n",
    "    text = re.sub(r'\\s+', ' ', text)  # Remove extra spaces\n",
    "    return text\n",
    "\n",
    "df['Clean_Text'] = df['Text'].apply(clean_text)\n",
    "df\n"
   ]
  },
  {
   "cell_type": "markdown",
   "id": "c5f3f224-159f-4359-955c-f14b9300d2e0",
   "metadata": {},
   "source": [
    "## Sentiment Analysis\n",
    "In this step, we will perform sentiment analysis using the **TextBlob** library to calculate the polarity and subjectivity of each text.\n",
    "- **Polarity** indicates whether the sentiment is positive, negative, or neutral.\n",
    "- **Subjectivity** indicates how subjective (opinion-based) the text is.\n"
   ]
  },
  {
   "cell_type": "code",
   "execution_count": 2,
   "id": "9d49a641-e11e-4a47-831e-51fb45e05e10",
   "metadata": {},
   "outputs": [
    {
     "data": {
      "text/html": [
       "<div>\n",
       "<style scoped>\n",
       "    .dataframe tbody tr th:only-of-type {\n",
       "        vertical-align: middle;\n",
       "    }\n",
       "\n",
       "    .dataframe tbody tr th {\n",
       "        vertical-align: top;\n",
       "    }\n",
       "\n",
       "    .dataframe thead th {\n",
       "        text-align: right;\n",
       "    }\n",
       "</style>\n",
       "<table border=\"1\" class=\"dataframe\">\n",
       "  <thead>\n",
       "    <tr style=\"text-align: right;\">\n",
       "      <th></th>\n",
       "      <th>Text</th>\n",
       "      <th>Clean_Text</th>\n",
       "      <th>Polarity</th>\n",
       "      <th>Subjectivity</th>\n",
       "    </tr>\n",
       "  </thead>\n",
       "  <tbody>\n",
       "    <tr>\n",
       "      <th>0</th>\n",
       "      <td>I love programming!</td>\n",
       "      <td>i love programming</td>\n",
       "      <td>0.5</td>\n",
       "      <td>0.6</td>\n",
       "    </tr>\n",
       "    <tr>\n",
       "      <th>1</th>\n",
       "      <td>I hate bugs...</td>\n",
       "      <td>i hate bugs</td>\n",
       "      <td>-0.8</td>\n",
       "      <td>0.9</td>\n",
       "    </tr>\n",
       "    <tr>\n",
       "      <th>2</th>\n",
       "      <td>Python is awesome.</td>\n",
       "      <td>python is awesome</td>\n",
       "      <td>1.0</td>\n",
       "      <td>1.0</td>\n",
       "    </tr>\n",
       "  </tbody>\n",
       "</table>\n",
       "</div>"
      ],
      "text/plain": [
       "                  Text          Clean_Text  Polarity  Subjectivity\n",
       "0  I love programming!  i love programming       0.5           0.6\n",
       "1       I hate bugs...         i hate bugs      -0.8           0.9\n",
       "2   Python is awesome.   python is awesome       1.0           1.0"
      ]
     },
     "execution_count": 2,
     "metadata": {},
     "output_type": "execute_result"
    }
   ],
   "source": [
    "from textblob import TextBlob\n",
    "\n",
    "# Sentiment analysis function\n",
    "def analyze_sentiment(text):\n",
    "    analysis = TextBlob(text)\n",
    "    return analysis.sentiment.polarity, analysis.sentiment.subjectivity\n",
    "\n",
    "df[['Polarity', 'Subjectivity']] = df['Clean_Text'].apply(lambda x: pd.Series(analyze_sentiment(x)))\n",
    "df\n"
   ]
  },
  {
   "cell_type": "markdown",
   "id": "04f8f5eb-5710-4f01-aeef-e6c8b5d5bc1f",
   "metadata": {},
   "source": [
    "## Visualization\n",
    "We will now visualize the polarity and subjectivity values using histograms to understand the distribution of sentiments in the dataset.\n"
   ]
  },
  {
   "cell_type": "code",
   "execution_count": 3,
   "id": "0cf1ec27-5fa6-421d-998c-55559d53a66e",
   "metadata": {},
   "outputs": [
    {
     "data": {
      "image/png": "[encoded data removed]",
      "text/plain": [
       "<Figure size 1200x500 with 1 Axes>"
      ]
     },
     "metadata": {},
     "output_type": "display_data"
    },
    {
     "data": {
      "image/png": "[encoded data removed]",
      "text/plain": [
       "<Figure size 1200x500 with 1 Axes>"
      ]
     },
     "metadata": {},
     "output_type": "display_data"
    }
   ],
   "source": [
    "import matplotlib.pyplot as plt\n",
    "import seaborn as sns\n",
    "\n",
    "# Polarity distribution\n",
    "plt.figure(figsize=(12,5))\n",
    "sns.histplot(df['Polarity'], bins=20, kde=True, color='skyblue')\n",
    "plt.title('Polarity Distribution')\n",
    "plt.xlabel('Polarity')\n",
    "plt.ylabel('Frequency')\n",
    "plt.show()\n",
    "\n",
    "# Subjectivity distribution\n",
    "plt.figure(figsize=(12,5))\n",
    "sns.histplot(df['Subjectivity'], bins=20, kde=True, color='salmon')\n",
    "plt.title('Subjectivity Distribution')\n",
    "plt.xlabel('Subjectivity')\n",
    "plt.ylabel('Frequency')\n",
    "plt.show()\n"
   ]
  },
  {
   "cell_type": "markdown",
   "id": "7297eadf-deec-4f63-aee1-f53260b5298a",
   "metadata": {},
   "source": [
    "## Interpretation & Conclusion\n",
    "- **Polarity** values show the overall sentiment, with negative values indicating negative sentiment and positive values indicating positive sentiment.\n",
    "- **Subjectivity** values show the degree of subjectivity, with higher values indicating more opinion-based content.\n",
    "This project demonstrates basic text preprocessing and sentiment analysis using Python and the TextBlob library. You can expand it by using more advanced sentiment analysis models or larger datasets for more complex applications.\n"
   ]
  },
  {
   "cell_type": "code",
   "execution_count": null,
   "id": "fb2bfbe8-472c-4263-bc59-a947be3fd2cb",
   "metadata": {},
   "outputs": [],
   "source": []
  }
 ],
 "metadata": {
  "kernelspec": {
   "display_name": "Python 3 (ipykernel)",
   "language": "python",
   "name": "python3"
  },
  "language_info": {
   "codemirror_mode": {
    "name": "ipython",
    "version": 3
   },
   "file_extension": ".py",
   "mimetype": "text/x-python",
   "name": "python",
   "nbconvert_exporter": "python",
   "pygments_lexer": "ipython3",
   "version": "3.13.3"
  }
 },
 "nbformat": 4,
 "nbformat_minor": 5
}
